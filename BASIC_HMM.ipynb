{
 "cells": [
  {
   "cell_type": "code",
   "execution_count": 1,
   "id": "48139561",
   "metadata": {},
   "outputs": [],
   "source": [
    "import numpy as np\n",
    "from Baum_Welch_Algorithem import HMM"
   ]
  },
  {
   "cell_type": "code",
   "execution_count": 2,
   "id": "dda50e06",
   "metadata": {},
   "outputs": [],
   "source": [
    "observations = ('dry','dryish','damp','soggy')\n",
    "states = ('sunny','cloudy','rainy')\n",
    "\n",
    "start_probaility = {'sunny':0.6,'cloudy':0.2,'rainy':0.2}\n",
    "\n",
    "transision_probability = {\n",
    "    'sunny':{'sunny':0.5,'cloudy':0.375,'rainy':0.125},\n",
    "    'cloudy':{'sunny':0.25,'cloudy':0.125,'rainy':0.625},\n",
    "    'rainy':{'sunny':0.25,'cloudy':0.375,'rainy':0.3750}\n",
    "}\n",
    "\n",
    "emission_probability = {\n",
    "    'sunny':{'dry':0.6,'dryish':0.2,'damp':0.15,'soggy':0.05},\n",
    "    'cloudy':{'dry':0.25,'dryish':0.25,'damp':0.25,'soggy':0.25},\n",
    "    'rainy':{'dry':0.05,'dryish':0.1,'damp':0.35,'soggy':0.50}\n",
    "}"
   ]
  },
  {
   "cell_type": "code",
   "execution_count": 3,
   "id": "97307f35",
   "metadata": {},
   "outputs": [
    {
     "name": "stdout",
     "output_type": "stream",
     "text": [
      "[[0.5   0.375 0.125]\n",
      " [0.25  0.125 0.625]\n",
      " [0.25  0.375 0.375]]\n",
      "[[0.6  0.2  0.15 0.05]\n",
      " [0.25 0.25 0.25 0.25]\n",
      " [0.05 0.1  0.35 0.5 ]]\n",
      "[0, 1, 2, 3]\n",
      "[0.6 0.2 0.2]\n",
      "[0, 2, 3]\n",
      "forward: P(O|lambda) = 0.026441\n",
      "backward: P(O|lambda) = 0.026441\n"
     ]
    }
   ],
   "source": [
    "def generate_index_map(labels):\n",
    "    index_label = {}\n",
    "    label_index = {}\n",
    "\n",
    "    i = 0\n",
    "    for l in labels:\n",
    "        index_label[i] = l\n",
    "        label_index[l] = i\n",
    "\n",
    "        i += 1\n",
    "    return label_index,index_label\n",
    "\n",
    "states_label_index,states_index_label = generate_index_map(states)\n",
    "observasions_label_indec,observations_index_label = generate_index_map(observations)\n",
    "\n",
    "def convert_observations_to_index (observations,label_index):\n",
    "    list = []\n",
    "    for o in observations:\n",
    "        list.append(label_index[o])\n",
    "    return list\n",
    "\n",
    "def convert_map_to_matrix (probability_map,label_index1,label_index2):\n",
    "    m = np.empty((len(label_index1),len(label_index2)),dtype = float)\n",
    "    for line in probability_map:\n",
    "        for col in probability_map[line]:\n",
    "            m[label_index1[line]][label_index2[col]] = probability_map[line][col]\n",
    "    return m\n",
    "\n",
    "def convert_map_to_vector (map,label_index):\n",
    "    v = np.empty(len(map),dtype = float)\n",
    "    for e in map:\n",
    "              v[label_index[e]] = map[e]\n",
    "    return v\n",
    "\n",
    "\n",
    "A = convert_map_to_matrix(transision_probability,states_label_index,states_label_index)\n",
    "print(A)\n",
    "B = convert_map_to_matrix(emission_probability,states_label_index,observasions_label_indec)\n",
    "print(B)\n",
    "observations_index = convert_observations_to_index(observations,observasions_label_indec)\n",
    "print(observations_index)\n",
    "pi = convert_map_to_vector(start_probaility,states_label_index)\n",
    "print(pi)\n",
    "\n",
    "h = HMM(A,B,pi)\n",
    "\n",
    "obs_seq = ('dry','damp','soggy')\n",
    "obs_seq_indes = convert_observations_to_index(obs_seq,observasions_label_indec)\n",
    "print(obs_seq_indes)\n",
    "\n",
    "F = h._forward(obs_seq_indes)\n",
    "print(\"forward: P(O|lambda) = %f\" %sum(F[:,-1]))\n",
    "X = h._backward(obs_seq_indes)\n",
    "print(\"backward: P(O|lambda) = %f\" %sum(X[:,0]*pi*B[:,0]))\n"
   ]
  },
  {
   "cell_type": "code",
   "execution_count": 4,
   "id": "3829c61b",
   "metadata": {},
   "outputs": [
    {
     "name": "stdout",
     "output_type": "stream",
     "text": [
      "最有可能的隐藏序列 ['sunny', 'cloudy', 'rainy']\n",
      "viterbi:P(I|O) = 0.010547\n"
     ]
    }
   ],
   "source": [
    "#计算P(i|o)\n",
    "p,ss = h.stat_path(obs_seq_indes)\n",
    "path = []\n",
    "for s in ss:\n",
    "    path.append(states_index_label[s])\n",
    "\n",
    "print(\"最有可能的隐藏序列\",path)\n",
    "print(\"viterbi:P(I|O) = %f\"%p)"
   ]
  },
  {
   "cell_type": "code",
   "execution_count": 5,
   "id": "c3d6eb43",
   "metadata": {},
   "outputs": [
    {
     "name": "stdout",
     "output_type": "stream",
     "text": [
      "0.45\n"
     ]
    }
   ],
   "source": [
    "observation_data,states_data = h.simulate(100)\n",
    "guess = HMM(np.array([[0.33,0.33,0.34],\n",
    "                   [0.33,0.33,0.34],\n",
    "                   [0.33,0.33,0.34]]),\n",
    "            np.array([[0.25,0.25,0.25,0.25],\n",
    "                   [0.25,0.25,0.25,0.25],\n",
    "                   [0.25,0.25,0.25,0.25]]),\n",
    "            np.array([0.33,0.33,0.34])\n",
    "               )\n",
    "guess.baum_welch_train(observation_data)\n",
    "\n",
    "#预测问题\n",
    "states_out = guess.stat_path(observation_data)[1]\n",
    "p = 0.0\n",
    "for s in states_data:\n",
    "    if next(states_out) == s:p += 1\n",
    "\n",
    "print(p/len(states_data))"
   ]
  },
  {
   "cell_type": "code",
   "execution_count": 6,
   "id": "8be56b37",
   "metadata": {},
   "outputs": [
    {
     "name": "stdout",
     "output_type": "stream",
     "text": [
      "0.15\n"
     ]
    }
   ],
   "source": [
    "A = np.array( [[0.5, 0.375, 0.125],\n",
    "              [0.25, 0.125, 0.625],\n",
    "              [0.25, 0.375, 0.375]])\n",
    "B = np.array( [[0.6, 0.2, 0.15, 0.05],\n",
    "              [0.25, 0.25, 0.25, 0.25],\n",
    "              [0.05, 0.1, 0.35, 0.5 ]])\n",
    "pi =np.array( [0.6, 0.2, 0.2])\n",
    "h = HMM(A,B,pi)\n",
    "\n",
    "observation_data,states_data = h.simulate(100)\n",
    "\n",
    "guess = HMM(np.array([[0.33,0.33,0.34],\n",
    "                   [0.33,0.33,0.34],\n",
    "                   [0.33,0.33,0.34]]),\n",
    "            np.array([[0.25,0.25,0.25,0.25],\n",
    "                   [0.25,0.25,0.25,0.25],\n",
    "                   [0.25,0.25,0.25,0.25]]),\n",
    "            np.array([0.33,0.33,0.34])\n",
    "               )\n",
    "guess.baum_welch_train(observation_data)\n",
    "\n",
    "#预测问题\n",
    "states_out = guess.stat_path(observation_data)[1]\n",
    "p = 0.0\n",
    "for s in states_data:\n",
    "    if next(states_out) == s:p += 1\n",
    "\n",
    "print(p/len(states_data))"
   ]
  },
  {
   "cell_type": "code",
   "execution_count": 7,
   "id": "679c04ba",
   "metadata": {},
   "outputs": [
    {
     "name": "stdout",
     "output_type": "stream",
     "text": [
      "[0.125 0.625 0.375]\n"
     ]
    }
   ],
   "source": [
    "A = np.array( [[0.5, 0.375, 0.125],\n",
    "              [0.25, 0.125, 0.625],\n",
    "              [0.25, 0.375, 0.375]])\n",
    "print(A[:,-1])"
   ]
  },
  {
   "cell_type": "code",
   "execution_count": null,
   "id": "5b608620",
   "metadata": {},
   "outputs": [],
   "source": []
  }
 ],
 "metadata": {
  "kernelspec": {
   "display_name": "Python 3 (ipykernel)",
   "language": "python",
   "name": "python3"
  },
  "language_info": {
   "codemirror_mode": {
    "name": "ipython",
    "version": 3
   },
   "file_extension": ".py",
   "mimetype": "text/x-python",
   "name": "python",
   "nbconvert_exporter": "python",
   "pygments_lexer": "ipython3",
   "version": "3.11.5"
  }
 },
 "nbformat": 4,
 "nbformat_minor": 5
}
