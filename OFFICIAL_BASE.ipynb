{
 "cells": [
  {
   "cell_type": "code",
   "execution_count": null,
   "id": "296b07d9",
   "metadata": {},
   "outputs": [],
   "source": [
    "import numpy as np\n",
    "import scipy.io as sio\n",
    "import matplotlib.pyplot as plt\n",
    "\n",
    "from hmmlearn import hmm \n",
    "from scipy.signal import butter, filtfilt\n",
    "\n",
    "def butter_bandpass_filter(data, lowcut, highcut, fs, order = 5):\n",
    "    #fs - sampling rate\n",
    "    fa = 0.5 * fs\n",
    "    low = lowcut/fa\n",
    "    high = highcut/fa\n",
    "    b,a = butter(order,[low, high], btype='band')\n",
    "    y = filtfilt(b,a,data)\n",
    "    return y\n",
    "\n",
    "def draw_pic(data, long = 10, high = 10):\n",
    "    x= data.shape[0]\n",
    "    x_linspace = np.arange(0,x)\n",
    "    #data = data - np.mean(data)\n",
    "    plt.figure(figsize=(long,high))\n",
    "    plt.plot(x_linspace,data)\n",
    "    return"
   ]
  },
  {
   "cell_type": "code",
   "execution_count": null,
   "id": "8ca5a96a",
   "metadata": {},
   "outputs": [],
   "source": [
    "data = sio.loadmat('E:/study/Doctor/second_year/EEG_data/UCLA_data/times_CSC4.mat')\n",
    "spikes = data['spikes']\n",
    "exp_data2 = spikes.T[1]\n",
    "filtered_signal = butter_bandpass_filter(exp_data2,100,6000,48000)\n",
    "draw_pic(filtered_signal,90,20)"
   ]
  },
  {
   "cell_type": "code",
   "execution_count": null,
   "id": "603efe62",
   "metadata": {},
   "outputs": [],
   "source": [
    "data = filtered_signal\n",
    "K = 30\n",
    "T = data.shape[0]\n",
    "cov = np.cov(data)\n",
    "std = np.std(data)\n",
    "pi = np.random.dirichlet(np.ones(30),size = 1).reshape(-1,1)\n",
    "P = 10**(-3) \n",
    "\n",
    "mu_sr = 24 * 10 ** 3\n",
    "lins = np.linspace(0,3 * np.pi , num = mu_sr)\n",
    "sinmu = np.sin(lins)\n",
    "mu_linspace = np.zeros((K,1))\n",
    "\n",
    "for i in range(5,14):\n",
    "    mu_linspace[i,0] = sinmu[int((i-5) * mu_sr / 10)]\n",
    "\n",
    "h_mu = np.random.uniform(0,5*std)\n",
    "mu = mu_linspace * np.matrix(h_mu)"
   ]
  },
  {
   "cell_type": "code",
   "execution_count": null,
   "id": "5ffcbf81",
   "metadata": {},
   "outputs": [],
   "source": [
    "tran_pro = np.append(np.zeros([1,K]),np.append(np.eye(K-1,dtype=float),np.zeros([K-1,1]),axis=1),axis=0)\n",
    "tran_pro[0,0],tran_pro[1,0],tran_pro[0,-1] = 1-P, P, 1"
   ]
  },
  {
   "cell_type": "code",
   "execution_count": null,
   "id": "7a0b3173",
   "metadata": {},
   "outputs": [],
   "source": [
    "model = hmm.GaussianHMM(K,covariance_type=\"spherical\")"
   ]
  },
  {
   "cell_type": "code",
   "execution_count": null,
   "id": "20423554",
   "metadata": {},
   "outputs": [],
   "source": [
    "model.transmat_prior = tran_pro\n",
    "model.means_prior = mu\n",
    "model.covars_ = np.ones((K)) * cov"
   ]
  },
  {
   "cell_type": "code",
   "execution_count": null,
   "id": "56a816b7",
   "metadata": {},
   "outputs": [],
   "source": [
    "logprob,state = model.decode(data,algorithm = 'viterbi')"
   ]
  },
  {
   "cell_type": "code",
   "execution_count": null,
   "id": "eaa0ac20",
   "metadata": {},
   "outputs": [],
   "source": []
  }
 ],
 "metadata": {
  "kernelspec": {
   "display_name": "Python 3 (ipykernel)",
   "language": "python",
   "name": "python3"
  },
  "language_info": {
   "codemirror_mode": {
    "name": "ipython",
    "version": 3
   },
   "file_extension": ".py",
   "mimetype": "text/x-python",
   "name": "python",
   "nbconvert_exporter": "python",
   "pygments_lexer": "ipython3",
   "version": "3.11.5"
  }
 },
 "nbformat": 4,
 "nbformat_minor": 5
}
