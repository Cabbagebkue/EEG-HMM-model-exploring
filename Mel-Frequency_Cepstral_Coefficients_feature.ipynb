{
 "cells": [
  {
   "cell_type": "markdown",
   "id": "ad343146",
   "metadata": {},
   "source": [
    "# Mel-Frequency Cepstral Coefficients "
   ]
  },
  {
   "cell_type": "markdown",
   "id": "b4b4813c",
   "metadata": {},
   "source": [
    "## Read Data"
   ]
  },
  {
   "cell_type": "code",
   "execution_count": 1,
   "id": "024496a3",
   "metadata": {},
   "outputs": [],
   "source": [
    "import numpy as np\n",
    "signal = np.random.rand(70000)\n",
    "sample_rate = 16000 #16kHz"
   ]
  },
  {
   "cell_type": "markdown",
   "id": "6432889d",
   "metadata": {},
   "source": [
    "## Framing data"
   ]
  },
  {
   "cell_type": "code",
   "execution_count": 2,
   "id": "3cd3e357",
   "metadata": {},
   "outputs": [],
   "source": [
    "# frame length : 20-40ms eg.25ms \n",
    "fram_stride = 0.01\n",
    "fram_size = 0.025\n",
    "fram_length, fram_step = fram_size * sample_rate, fram_stride * sample_rate\n",
    "signal_length = len(signal)\n",
    "fram_length = int(round(fram_length))\n",
    "fram_step = int(round(fram_step))\n",
    "num_frames = int(np.ceil(float(np.abs(signal_length - fram_length + fram_step)) / fram_step)) #make sure that we have at least 1 frame"
   ]
  },
  {
   "cell_type": "code",
   "execution_count": 3,
   "id": "a014e5e1",
   "metadata": {},
   "outputs": [],
   "source": [
    "#填充信号以确保所有帧具有相同数量的样本，且不会截断原始信号中的任何样本\n",
    "pad_signal_lenth = (num_frames - 1) * fram_step + fram_length\n",
    "z = np.zeros(pad_signal_lenth - signal_length)\n",
    "pad_signal = np.append(signal,z)"
   ]
  },
  {
   "cell_type": "code",
   "execution_count": 4,
   "id": "a4e3842f",
   "metadata": {},
   "outputs": [
    {
     "name": "stdout",
     "output_type": "stream",
     "text": [
      "400\n",
      "436\n",
      "70000\n"
     ]
    }
   ],
   "source": [
    "print(fram_length)\n",
    "print(num_frames)\n",
    "print(len(pad_signal))"
   ]
  },
  {
   "cell_type": "markdown",
   "id": "617e02a2",
   "metadata": {},
   "source": [
    "## Quantizing data fram"
   ]
  },
  {
   "cell_type": "code",
   "execution_count": 5,
   "id": "62a94712",
   "metadata": {},
   "outputs": [
    {
     "name": "stdout",
     "output_type": "stream",
     "text": [
      "(436, 400)\n"
     ]
    }
   ],
   "source": [
    "indices = np.tile(np.arange(0,fram_length),(num_frames,1)) + np.tile(np.arange(0,num_frames * fram_step, fram_step),(fram_length,1)).T\n",
    "print(indices.shape)\n",
    "frames = pad_signal[indices.astype(np.int32, copy = False)]"
   ]
  },
  {
   "cell_type": "markdown",
   "id": "cb1d047c",
   "metadata": {},
   "source": [
    "## Discre Fourier Transform"
   ]
  },
  {
   "cell_type": "code",
   "execution_count": 6,
   "id": "b6c85879",
   "metadata": {},
   "outputs": [],
   "source": [
    "#S_i(k) = sum_(N,n=1)(s_i(n) * h(n) * exp(-j * 2pi / N * k * n)), 1<k<K; K-DFT length, N - Sample long, h(n) - analysis window\n",
    "frames *= np.hamming(fram_length) #对每一帧加汉明窗窗口函数 w[n] = 0.54-0.46cos(2pi(n/(N-1))) 主要抵消FFT无限计算并减少谱泄露"
   ]
  },
  {
   "cell_type": "code",
   "execution_count": 7,
   "id": "71fc5e07",
   "metadata": {},
   "outputs": [
    {
     "name": "stdout",
     "output_type": "stream",
     "text": [
      "(436, 257)\n"
     ]
    }
   ],
   "source": [
    "NFFT = 512 #N点FFT 也就是 DFT N通常为256或512\n",
    "mag_frames = np.absolute(np.fft.rfft(frames,NFFT)) # magnitude of FFT\n",
    "print(mag_frames.shape)\n",
    "pow_fram = ((1.0/NFFT) * ((mag_frames) ** 2)) # power spectrum of FFT"
   ]
  },
  {
   "cell_type": "markdown",
   "id": "03ac3760",
   "metadata": {},
   "source": [
    "## Mel-spaced filterbank"
   ]
  },
  {
   "cell_type": "markdown",
   "id": "9eea6cb5",
   "metadata": {},
   "source": [
    "### Mel-scale calculation"
   ]
  },
  {
   "cell_type": "code",
   "execution_count": 8,
   "id": "ba421b41",
   "metadata": {},
   "outputs": [],
   "source": [
    "nfilt = 26 #difine the number of triangular filters range between 20 and 40 ( common amount is 26)\n",
    "low_freq_mel = 0\n",
    "hight_freq_mel = (2595 * np.log10(1 + (sample_rate / 2) / 700)) # M(f) = 2595*lg(1 + f / 700) convert Hz to Mel\n",
    "mel_point = np.linspace(low_freq_mel, hight_freq_mel, nfilt + 2)# equally spaced in mel scale, 划分出nfilt + 2 个区间\n",
    "hz_points = (700 * (10 ** (mel_point / 2595) - 1)) # convert Mel to Hz\n",
    "bin = np.floor((NFFT + 1) * hz_points / sample_rate)"
   ]
  },
  {
   "cell_type": "markdown",
   "id": "2e859262",
   "metadata": {},
   "source": [
    "### Filter design"
   ]
  },
  {
   "cell_type": "code",
   "execution_count": 12,
   "id": "a8403b21",
   "metadata": {},
   "outputs": [
    {
     "name": "stdout",
     "output_type": "stream",
     "text": [
      "(26, 257)\n"
     ]
    }
   ],
   "source": [
    "fbank = np.zeros((nfilt, int(np.floor(NFFT / 2 + 1))))\n",
    "print(fbank.shape)\n",
    "for m in range(1, nfilt + 1):\n",
    "    f_m_minus = int(bin[m - 1])\n",
    "    f_m = int(bin[m]) \n",
    "    f_m_plus = int(bin[m + 1])\n",
    "    \n",
    "    for k in range(f_m_minus,f_m):\n",
    "        fbank[m - 1, k] = (k - bin[m - 1]) / (bin[m] - bin[m - 1])\n",
    "    for k in range(f_m,f_m_plus):\n",
    "        fbank[m - 1, k] = (bin[m + 1] - k) / (bin[m + 1] - bin[m])"
   ]
  },
  {
   "cell_type": "markdown",
   "id": "acd6dee8",
   "metadata": {},
   "source": [
    "## log magnitude calculation"
   ]
  },
  {
   "cell_type": "code",
   "execution_count": 13,
   "id": "a4cb40bc",
   "metadata": {},
   "outputs": [],
   "source": [
    "filter_banks = np.dot(pow_fram, fbank.T)\n",
    "filter_banks = np.where(filter_banks == 0, np.finfo(float).eps, filter_banks)\n",
    "filter_banks = 20 * np.log10(filter_banks) #dB give 26 log filterbank energies"
   ]
  },
  {
   "cell_type": "markdown",
   "id": "11284e8a",
   "metadata": {},
   "source": [
    "## Discrete Cosine Transform calculation"
   ]
  },
  {
   "cell_type": "code",
   "execution_count": 18,
   "id": "1ac05ddf",
   "metadata": {},
   "outputs": [
    {
     "data": {
      "text/plain": [
       "(436, 13)"
      ]
     },
     "execution_count": 18,
     "metadata": {},
     "output_type": "execute_result"
    }
   ],
   "source": [
    "from scipy.fftpack import dct\n",
    "num_ceps = 12\n",
    "mfcc = dct(filter_banks, type=2, axis=1, norm='ortho')[:, -(num_ceps + 1):] # the least 12-13 cepstral coefficients are used\n",
    "\n",
    "cep_lifter = 22\n",
    "(nframes, ncoeff) = mfcc.shape\n",
    "n = np.arange(ncoeff)\n",
    "lift = 1 + (cep_lifter / 2) * np.sin(np.pi * n/cep_lifter)\n",
    "mfcc *= lift\n",
    "\n",
    "mfcc.shape"
   ]
  },
  {
   "cell_type": "code",
   "execution_count": null,
   "id": "e95add94",
   "metadata": {},
   "outputs": [],
   "source": []
  }
 ],
 "metadata": {
  "kernelspec": {
   "display_name": "Python 3 (ipykernel)",
   "language": "python",
   "name": "python3"
  },
  "language_info": {
   "codemirror_mode": {
    "name": "ipython",
    "version": 3
   },
   "file_extension": ".py",
   "mimetype": "text/x-python",
   "name": "python",
   "nbconvert_exporter": "python",
   "pygments_lexer": "ipython3",
   "version": "3.11.5"
  }
 },
 "nbformat": 4,
 "nbformat_minor": 5
}
