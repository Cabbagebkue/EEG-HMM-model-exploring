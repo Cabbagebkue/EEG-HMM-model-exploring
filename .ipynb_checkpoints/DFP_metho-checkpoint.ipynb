{
 "cells": [
  {
   "cell_type": "code",
   "execution_count": 1,
   "id": "33692093",
   "metadata": {},
   "outputs": [],
   "source": [
    "import numpy as np\n",
    "import sympy as sp\n",
    "\n",
    "def funcal(f,x):\n",
    "    a,b = np.shape(x)\n",
    "    x1,x2 = sp.symbols('x1 x2')\n",
    "    x3 = [x1,x2]\n",
    "    fun = np.array([[0.0000],[0.0000]])\n",
    "    for i in range(a):\n",
    "        fun[i,0] = f.subs({x1:x[0][0],x2:x[1][0]})\n",
    "    return fun\n",
    "\n",
    "def jacobian(f,x):#求一阶导，雅可比矩阵\n",
    "    \n",
    "    a,b = np.shape(x)#变量维度\n",
    "    x1,x2 = sp.symbols('x1 x2')#定义变量\n",
    "    x3 = [x1,x2]#将变量放入列表，方便查找与循环\n",
    "    df = np.array([[0.0000],[0.0000]])#给定保留小数位数\n",
    "    for i in range(a):#循环求值\n",
    "        df[i,0] = sp.diff(f,x3[i]).subs({x1:x[0][0],x2:x[1][0]})\n",
    "        \n",
    "    return df\n",
    "\n",
    "\n",
    "def dfp_newton(f,x):\n",
    "    \"\"\"\n",
    "    实现DFP拟牛顿法\n",
    "    :param f:原函数\n",
    "    :param x:初始值\n",
    "    :param iters:遍历的最大迭代数\n",
    "    :return xbest:最终更新完的x值\n",
    "    \"\"\"\n",
    "    rho = 0.55\n",
    "    sigma = 0.4\n",
    "    epsilon = 1e-5#一阶导g的二范式最小值（阈值）\n",
    "    \n",
    "    H = np.eye(2)#初始化正定矩阵\n",
    "    \n",
    "    \n",
    "    g = jacobian(f,x)\n",
    "  \n",
    "    while np.linalg.norm(g) >= epsilon:\n",
    "        \n",
    "    #开始迭代    \n",
    "        d = -np.dot(H,g)\n",
    "        m = 0 \n",
    "        mk = 0\n",
    "        while (m < 20):\n",
    "            if np.linalg.norm(funcal(f,x + rho ** m * d)) < np.linalg.norm(funcal(f,x) + sigma * rho ** m * g.T * d):\n",
    "                m = mk\n",
    "                break\n",
    "            m += 1 \n",
    "        \n",
    "        a = rho ** m\n",
    "        \n",
    "        #更新x值\n",
    "        x_new = x + a*d \n",
    "        g_new = jacobian(f,x_new)\n",
    "        \n",
    "        y = g_new - g\n",
    "        \n",
    "        s = x_new - x \n",
    "        \n",
    "        #更新H\n",
    "        A = np.dot(s,s.T)/np.dot(s.T,y)\n",
    "        B = - (np.dot(H,np.dot(y,np.dot(y.T,H)))/np.dot(y.T,np.dot(H,y)))\n",
    "        if np.dot(s.T,y) > 0:\n",
    "            H = H + B + A\n",
    "        x = x_new\n",
    "        \n",
    "        g = g_new\n",
    "        \n",
    "    return x "
   ]
  },
  {
   "cell_type": "code",
   "execution_count": 2,
   "id": "948c3e89",
   "metadata": {},
   "outputs": [
    {
     "name": "stdout",
     "output_type": "stream",
     "text": [
      "[[1.00000175e+00]\n",
      " [2.80544532e-07]]\n"
     ]
    }
   ],
   "source": [
    "x1,x2 = sp.symbols('x1 x2')\n",
    "x = np.array([[2],[1]])\n",
    "f = 2*x1**2 + x2**2 - 4*x1 + 2\n",
    "print(dfp_newton(f,x))"
   ]
  },
  {
   "cell_type": "code",
   "execution_count": 3,
   "id": "97eb8a77",
   "metadata": {},
   "outputs": [
    {
     "data": {
      "text/plain": [
       "array([[3.],\n",
       "       [3.]])"
      ]
     },
     "execution_count": 3,
     "metadata": {},
     "output_type": "execute_result"
    }
   ],
   "source": [
    "funcal(f,x)"
   ]
  },
  {
   "cell_type": "code",
   "execution_count": 4,
   "id": "8aea188e",
   "metadata": {},
   "outputs": [],
   "source": [
    "n = 2\n",
    "m = 30\n",
    "data = np.zeros((n,m))\n",
    "K,M = np.shape(data)\n",
    "t = 0.005\n",
    "t_f = np.array(np.arange(8.0,13.0,0.005))\n",
    "element =np.zeros((K*4-1))[:,np.newaxis]\n",
    "A1,B1,C1,A2,B2,C2,D = sp.symbols('A1 B1 C1 A2 B2 C2 D')"
   ]
  },
  {
   "cell_type": "code",
   "execution_count": 5,
   "id": "0641e4a6",
   "metadata": {},
   "outputs": [],
   "source": [
    "y = np.cos(t_f * np.pi / 4)\n",
    "np.fft.fft(y)\n",
    "power = y * y.T"
   ]
  },
  {
   "cell_type": "code",
   "execution_count": 11,
   "id": "26276572",
   "metadata": {},
   "outputs": [],
   "source": [
    "element[0][0] = 10\n",
    "H = power[ 9 ]\n",
    "S = power[ 8 ] + power[ 9 ] + power[ 10 ]\n",
    "element[1] = (H - S * t) / (H + S * t)\n",
    "element[2] = (4 * S * ( H * t ) **( 1 / 2 ) ) / (H + S * t)\n",
    "element[3] = 1\n",
    "element[4] = 1\n",
    "element[5] = 1\n",
    "element[6] = 1"
   ]
  },
  {
   "cell_type": "code",
   "execution_count": 7,
   "id": "5c067500",
   "metadata": {},
   "outputs": [],
   "source": [
    "def funcal2(f,x):\n",
    "    a,b= np.shape(x)\n",
    "    A1,B1,C1,A2,B2,C2,D = sp.symbols('A1 B1 C1 A2 B2 C2 D')\n",
    "    x3 = [ A1,B1,C1,A2,B2,C2,D ]\n",
    "    fun = f.subs({A1:x[0][0],B1:x[1][0],C1:x[2][0],A2:x[3][0],B2:x[4][0],C2:x[5][0],D:x[6][0]})\n",
    "    return fun\n",
    "\n",
    "def jacobian2(f,x):#求一阶导，雅可比矩阵\n",
    "    \n",
    "    a,b= np.shape(x)#变量维度\n",
    "    A1,B1,C1,A2,B2,C2,D = sp.symbols('A1 B1 C1 A2 B2 C2 D')#定义变量\n",
    "    x3 = [ A1,B1,C1,A2,B2,C2,D ]#将变量放入列表，方便查找与循环\n",
    "    df = np.array([[0.0000],[0.0000],[0.0000],[0.0000],[0.0000],[0.0000],[0.0000]])#给定保留小数位数\n",
    "    for i in range(a):#循环求值\n",
    "        df[i,0] = sp.diff(f,x3[i]).subs({A1:x[0][0],B1:x[1][0],C1:x[2][0],A2:x[3][0],B2:x[4][0],C2:x[5][0],D:x[6][0]}) \n",
    "        \n",
    "    return df\n",
    "\n",
    "def dfp_newton2(f,x):\n",
    "    \"\"\"\n",
    "    实现DFP拟牛顿法\n",
    "    :param f:原函数\n",
    "    :param x:初始值\n",
    "    :param iters:遍历的最大迭代数\n",
    "    :return xbest:最终更新完的x值\n",
    "    \"\"\"\n",
    "    M = np.shape(x)[0]\n",
    "    rho = 0.55\n",
    "    sigma = 0.4\n",
    "    epsilon = 1e-5#一阶导g的二范式最小值（阈值）\n",
    "    \n",
    "    H = np.eye(M)#初始化正定矩阵\n",
    "    g= jacobian2(f,x)\n",
    "  \n",
    "    \n",
    "    while np.linalg.norm(g) >= epsilon:\n",
    "        \n",
    "    #开始迭代    \n",
    "        d = -np.dot(H,g)\n",
    "        \n",
    "        m = 0 \n",
    "        mk = 0\n",
    "        \n",
    "        while (m < 20):\n",
    "            if funcal2(f,x + rho ** m * d) < (funcal2(f,x) + sigma * rho ** m * np.dot(g.T,d)):\n",
    "                m = mk\n",
    "                break\n",
    "            m += 1 \n",
    "       \n",
    "        a = rho ** m\n",
    "        #更新x值\n",
    "        \n",
    "        x_new = x + a * d\n",
    "        g_new = jacobian2(f,x_new)\n",
    "        y = g_new - g\n",
    "        \n",
    "        s = x_new - x \n",
    "        \n",
    "        #更新H\n",
    "        A = np.dot(s,s.T)/np.dot(s.T,y)\n",
    "        B = - (np.dot(H,np.dot(y,np.dot(y.T,H)))/np.dot(y.T,np.dot(H,y)))\n",
    "        if np.dot(s.T,y) > 0:\n",
    "            H = H + B  +  A\n",
    "        x = x_new\n",
    "        g = g_new\n",
    "    return x "
   ]
  },
  {
   "cell_type": "code",
   "execution_count": 12,
   "id": "18af1cda",
   "metadata": {},
   "outputs": [
    {
     "name": "stdout",
     "output_type": "stream",
     "text": [
      "8.0\n",
      "1.6159228390832392\n",
      "8.005\n",
      "0.0\n"
     ]
    }
   ],
   "source": [
    "y_i = 0 \n",
    "for n_f in t_f:\n",
    "    print(n_f)\n",
    "    G = (0.25 * t * C1**2 / (1 + B1**2 - 2 * B1 * sp.cos( 2 * sp.pi ) * t * (n_f - A1))) + (0.25 * t * C2**2 / (1 + B2**2 - 2 * B2 * sp.cos( 2 * sp.pi ) * t * (n_f + A2))) + t * D**2 - power[y_i]\n",
    "    new_element = dfp_newton2(G,element)\n",
    "    difference = abs(np.linalg.norm( element - new_element ))\n",
    "    print(difference)\n",
    "    if abs(np.linalg.norm( element  -  new_element )) > 1e-10:\n",
    "        element = new_element\n",
    "    else:\n",
    "        break\n",
    "    y_i += 1"
   ]
  },
  {
   "cell_type": "code",
   "execution_count": null,
   "id": "670423b7",
   "metadata": {},
   "outputs": [],
   "source": []
  }
 ],
 "metadata": {
  "kernelspec": {
   "display_name": "Python 3 (ipykernel)",
   "language": "python",
   "name": "python3"
  },
  "language_info": {
   "codemirror_mode": {
    "name": "ipython",
    "version": 3
   },
   "file_extension": ".py",
   "mimetype": "text/x-python",
   "name": "python",
   "nbconvert_exporter": "python",
   "pygments_lexer": "ipython3",
   "version": "3.9.13"
  }
 },
 "nbformat": 4,
 "nbformat_minor": 5
}
