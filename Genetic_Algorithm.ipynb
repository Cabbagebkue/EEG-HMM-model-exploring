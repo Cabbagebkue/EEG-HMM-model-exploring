{
 "cells": [
  {
   "cell_type": "markdown",
   "id": "d87d043d",
   "metadata": {},
   "source": [
    "# 所用包"
   ]
  },
  {
   "cell_type": "code",
   "execution_count": 1,
   "id": "6f2715db",
   "metadata": {},
   "outputs": [],
   "source": [
    "# deap-遗传系统工具箱，更快的可以用geatpy\n",
    "from deap import base        #\n",
    "from deap import creator     #元工厂，通过添加新属性来扩展现有类\n",
    "from deap import tools       #函数的容器，通过别名机制和自定义现有函数来创建性的运算符\n",
    "import random\n",
    "import matplotlib.pyplot as plt"
   ]
  },
  {
   "cell_type": "markdown",
   "id": "7353d509",
   "metadata": {},
   "source": [
    "# OneMax问题（查找给定长度的二进制串，最大化该二进制串中的总和）"
   ]
  },
  {
   "cell_type": "markdown",
   "id": "9da72495",
   "metadata": {},
   "source": [
    "## 常量"
   ]
  },
  {
   "cell_type": "code",
   "execution_count": 2,
   "id": "6f465012",
   "metadata": {},
   "outputs": [],
   "source": [
    "ONE_MAX_LENGTH = 100        # lenth of bit string to be optimized 生成的对象的数目\n",
    "POPULATI_SIZE = 200         # number of individuals in population\n",
    "P_CROSSOVER = 0.9           # probability for crossover 交叉概率\n",
    "P_MUTATION = 0.1            # probability for mutating and individual\n",
    "MAX_GENEERATION = 50        # max number of generation for stoping consition"
   ]
  },
  {
   "cell_type": "markdown",
   "id": "58e69e20",
   "metadata": {},
   "source": [
    "## 创建物种"
   ]
  },
  {
   "cell_type": "code",
   "execution_count": 3,
   "id": "e86f3e9e",
   "metadata": {},
   "outputs": [],
   "source": [
    "toolbox = base.Toolbox()                                              #定义toolbox变量\n",
    "toolbox.register(\"ZeroOrOne\",random.randint,0,1)                      #ZeroOrOne操作，自定义random.randomint(a,b)函数，调用时随机返回0或1\n",
    "\n",
    "creator.create(\"FitnessMax\",base.Fitness,weights=(1.0,))              #Fitness类，FitnessMax策略\n",
    "creator.create(\"Individual\",list,fitness=creator.FitnessMax)          #Individual类表示种群每个个体，并增加Fitness属性\n",
    "\n",
    "#创建IndividualCreater运算符，将100个随机生成 的0或1填充到单个实例\n",
    "#creator.Individual为放置结果对象的容器类别，ZeroOrOne操作是生成对象的函数\n",
    "toolbox.register(\"IndividualCreater\",tools.initRepeat,creator.Individual,toolbox.ZeroOrOne,ONE_MAX_LENGTH)"
   ]
  },
  {
   "cell_type": "markdown",
   "id": "0f30cf6c",
   "metadata": {},
   "source": [
    "## 计算适应度"
   ]
  },
  {
   "cell_type": "code",
   "execution_count": 4,
   "id": "7ae40cb9",
   "metadata": {},
   "outputs": [],
   "source": [
    "#注册用于创建个体列表的populationCreator操作，定义InitRepeat基类操作\n",
    "#列表类为容器类型，personalCreator运算符为用于生成列表中对象的函数\n",
    "#没有最后一项生成对象数目意味着使用时要指定此参数\n",
    "toolbox.register(\"populationCreator\",tools.initRepeat,list,toolbox.IndividualCreater)\n",
    "\n",
    "#定义函数计算个体中1的数量，再deap中是适用度函数为元组，因此，返回单个值时，需要用逗号将其声明为元组\n",
    "def oneMaxFitness(Individual):\n",
    "    return sum(Individual),\n",
    "toolbox.register(\"evaluate\",oneMaxFitness)                            #用evaluate运算符定义适用度函数-deap中的约定"
   ]
  },
  {
   "cell_type": "markdown",
   "id": "90d08c86",
   "metadata": {},
   "source": [
    "## 创建遗传算子"
   ]
  },
  {
   "cell_type": "code",
   "execution_count": 5,
   "id": "c9f821a4",
   "metadata": {},
   "outputs": [],
   "source": [
    "#选择算子包括：selRoulette()-轮盘选择；selStochasticUniversalSampling()-随机遍历选择；selTournament()-锦标赛选择\n",
    "toolbox.register(\"select\",tools.selTournament,tournsize=3)             #选择算子-锦标赛选择,tournsize为3\n",
    "\n",
    "#交叉算子包括：cxOnePoing()-单点交叉；cxUniform()-均匀交叉；cxOrdered()-有序交叉；cxPartialyMatched()-实现部分匹配交叉\n",
    "toolbox.register(\"mate\",tools.cxOnePoint)                             #交叉算子-单点交叉\n",
    "\n",
    "#突变算子包括：mutFlipbit()-位翻转突变；mutGaussian()正态分布突变\n",
    "toolbox.register(\"mutate\",tools.mutFlipBit,indpb=1.0/ONE_MAX_LENGTH)  #突变算子-位翻转突变"
   ]
  },
  {
   "cell_type": "markdown",
   "id": "c603d3a0",
   "metadata": {},
   "source": [
    "## 遗传算法进化流程"
   ]
  },
  {
   "cell_type": "markdown",
   "id": "90c9244b",
   "metadata": {},
   "source": [
    "### 初始化数据"
   ]
  },
  {
   "cell_type": "code",
   "execution_count": 6,
   "id": "9bed577e",
   "metadata": {},
   "outputs": [],
   "source": [
    "#创建初始种群，初始化generationCounter变量，用于判断代际数\n",
    "population = toolbox.populationCreator(n=POPULATI_SIZE)\n",
    "generationCountor = 0\n",
    "\n",
    "#用map()函数将evaluate操作应用于种群的每个个体来计算适应度，得到结果转为元组\n",
    "fitnessValues = list(map(toolbox.evaluate,population))\n",
    "\n",
    "#用zip()函数将适应度的每个项与个体列表中的项来匹配\n",
    "for individual,fitnessValues in zip(population,fitnessValues):\n",
    "    individual.fitness.values = fitnessValues\n",
    "\n",
    "#从每个个体的适应度中提取第一个值以获取统计数据\n",
    "fitnessValues = [individual.fitness.values[0] for individual in population]\n",
    "\n",
    "#创建两个列表用于储存统计值\n",
    "maxFitnessValues = []\n",
    "meanFitnessValues = []"
   ]
  },
  {
   "cell_type": "markdown",
   "id": "7231cb47",
   "metadata": {},
   "source": [
    "### 开始进化"
   ]
  },
  {
   "cell_type": "code",
   "execution_count": 8,
   "id": "f5258a9d",
   "metadata": {},
   "outputs": [
    {
     "name": "stdout",
     "output_type": "stream",
     "text": [
      "- Generation2: Max Fitness = 63.0, Avg Fitness = 53.805\n",
      "Best Individual =  0 0 0 1 1 1 1 1 1 1 1 0 1 1 0 0 1 0 1 1 1 0 1 1 1 0 1 1 1 0 1 0 0 0 0 1 0 1 0 1 1 0 0 1 0 1 1 0 1 1 1 1 1 0 1 1 1 0 1 1 1 0 0 1 1 1 1 0 0 1 1 1 1 1 1 1 0 0 1 1 1 0 0 0 1 0 1 1 0 1 0 1 1 1 0 1 1 0 1 0 \n",
      "\n",
      "- Generation3: Max Fitness = 63.0, Avg Fitness = 57.28\n",
      "Best Individual =  0 0 0 1 1 1 1 1 1 1 1 0 1 1 0 0 1 0 1 1 1 0 1 1 1 0 1 1 1 0 1 0 0 0 0 1 0 1 0 1 1 0 0 1 0 1 1 0 1 1 1 1 1 0 1 1 1 0 1 1 1 0 0 1 1 1 1 0 0 1 1 1 1 1 1 1 0 0 1 1 1 0 0 0 1 0 1 1 0 1 0 1 1 1 0 1 1 0 1 0 \n",
      "\n",
      "- Generation4: Max Fitness = 66.0, Avg Fitness = 59.695\n",
      "Best Individual =  1 1 0 0 1 1 1 1 1 1 1 1 1 1 1 1 1 1 1 1 0 1 0 0 1 0 1 0 0 1 1 0 0 1 1 1 0 1 1 0 0 1 0 0 0 1 1 1 1 1 1 1 1 0 0 1 0 0 1 1 0 1 1 1 0 1 1 1 1 1 0 0 1 1 1 0 1 1 0 0 0 1 1 1 1 1 0 1 1 0 1 0 0 1 1 1 1 0 1 0 \n",
      "\n",
      "- Generation5: Max Fitness = 66.0, Avg Fitness = 61.655\n",
      "Best Individual =  1 1 0 0 1 1 1 1 1 1 1 1 1 1 1 1 1 1 1 1 0 1 0 0 1 0 1 0 0 1 1 0 0 1 1 1 0 1 1 0 0 1 0 0 0 1 1 1 1 1 1 1 1 0 0 1 0 0 1 1 0 1 1 1 0 1 1 1 1 1 0 0 1 1 1 0 1 1 0 0 0 1 1 1 1 1 0 1 1 0 1 0 0 1 1 1 1 0 1 0 \n",
      "\n",
      "- Generation6: Max Fitness = 66.0, Avg Fitness = 62.82\n",
      "Best Individual =  0 0 0 1 1 1 1 1 1 1 1 0 1 1 0 0 1 1 1 1 1 0 1 1 1 0 1 1 1 0 1 0 0 0 1 1 1 1 0 1 1 0 0 1 0 1 1 0 1 1 1 1 1 0 1 1 1 0 1 1 1 0 0 1 1 1 1 0 0 1 1 1 1 1 1 1 0 0 1 1 1 0 0 0 1 0 1 1 0 1 0 1 1 1 0 1 1 0 1 0 \n",
      "\n",
      "- Generation7: Max Fitness = 66.0, Avg Fitness = 63.215\n",
      "Best Individual =  0 0 0 1 1 1 1 1 1 1 1 0 1 1 0 0 1 1 1 1 1 0 1 1 1 0 1 1 1 0 1 0 0 0 1 1 1 1 0 1 1 0 0 1 0 1 1 0 1 1 1 1 1 0 1 1 1 0 1 1 1 0 0 1 1 1 1 0 0 1 1 1 1 1 1 1 0 0 1 1 1 0 0 0 1 0 1 1 0 1 0 1 1 1 0 1 1 0 1 0 \n",
      "\n",
      "- Generation8: Max Fitness = 67.0, Avg Fitness = 63.59\n",
      "Best Individual =  1 1 0 0 1 1 1 1 1 1 1 1 1 1 1 1 1 1 1 1 0 1 0 0 1 0 1 0 0 1 1 0 1 1 1 1 0 1 1 1 0 1 1 0 0 1 1 1 1 1 1 1 1 0 1 1 0 0 1 1 0 1 1 1 0 1 1 1 1 1 0 0 0 1 1 0 1 1 0 0 0 1 1 1 1 1 0 1 1 0 0 0 0 1 1 1 0 0 1 0 \n",
      "\n",
      "- Generation9: Max Fitness = 67.0, Avg Fitness = 63.96\n",
      "Best Individual =  1 1 0 0 1 1 1 1 1 1 1 1 1 1 1 1 1 1 1 1 0 1 0 0 1 0 1 0 0 1 1 0 1 1 1 1 0 1 1 1 0 1 1 0 0 1 1 1 1 1 1 1 1 0 1 1 0 0 1 1 0 1 1 1 0 1 1 1 1 1 0 0 0 1 1 0 1 1 0 0 0 1 1 1 1 1 0 1 1 0 0 0 0 1 1 1 0 0 1 0 \n",
      "\n",
      "- Generation10: Max Fitness = 67.0, Avg Fitness = 64.295\n",
      "Best Individual =  1 1 0 0 1 1 1 1 1 1 1 1 1 1 1 1 1 1 1 1 0 1 0 0 1 0 1 0 0 1 1 0 1 1 1 1 0 1 1 1 0 1 1 0 0 1 1 1 1 1 1 1 1 0 1 1 0 0 1 1 0 1 1 1 0 1 1 1 1 1 0 0 0 1 1 0 1 1 0 0 0 1 1 1 1 1 0 1 1 0 0 0 0 1 1 1 0 0 1 0 \n",
      "\n",
      "- Generation11: Max Fitness = 67.0, Avg Fitness = 64.73\n",
      "Best Individual =  1 1 0 0 1 1 1 1 1 1 1 1 1 1 1 1 1 1 1 1 0 1 0 0 1 0 1 0 0 1 1 0 1 1 1 1 0 1 1 1 0 1 1 0 0 1 1 1 1 1 1 1 1 0 1 1 0 0 1 1 0 1 1 1 0 1 1 1 1 1 0 0 0 1 1 0 1 1 0 0 0 1 1 1 1 1 0 1 1 0 0 0 0 1 1 1 0 0 1 0 \n",
      "\n",
      "- Generation12: Max Fitness = 70.0, Avg Fitness = 65.55\n",
      "Best Individual =  1 1 0 1 1 1 1 1 1 1 1 1 1 1 1 1 1 1 1 1 0 1 0 0 1 0 1 0 0 1 1 0 1 1 1 1 0 1 1 1 0 1 1 0 0 1 1 1 1 1 1 1 1 0 1 1 0 0 1 1 0 1 1 1 1 1 1 1 1 1 0 0 0 1 1 0 1 1 0 0 0 1 1 1 1 1 0 1 1 0 1 0 0 1 1 1 0 0 1 0 \n",
      "\n",
      "- Generation13: Max Fitness = 68.0, Avg Fitness = 66.365\n",
      "Best Individual =  1 1 0 0 1 1 1 1 1 1 1 1 1 1 1 1 1 1 1 1 0 1 0 0 1 0 1 0 0 1 1 0 1 1 1 1 0 1 1 1 0 1 1 0 0 1 1 1 1 1 1 1 1 0 1 1 0 0 1 1 0 1 1 1 0 1 1 1 1 1 0 0 0 1 1 0 1 1 0 0 1 1 1 1 1 1 0 1 1 0 0 0 0 1 1 1 0 0 1 0 \n",
      "\n",
      "- Generation14: Max Fitness = 68.0, Avg Fitness = 66.96\n",
      "Best Individual =  1 1 0 1 1 1 1 1 1 1 1 1 1 1 1 1 1 1 1 1 1 1 1 0 1 0 1 0 1 1 1 0 0 1 1 1 0 1 1 0 0 1 0 0 0 1 1 1 1 1 1 1 1 0 0 1 0 0 1 1 0 1 1 1 0 1 1 1 1 1 0 0 0 1 1 0 1 1 0 0 0 1 1 1 1 1 0 1 1 0 1 0 0 1 1 1 0 0 1 0 \n",
      "\n",
      "- Generation15: Max Fitness = 68.0, Avg Fitness = 67.22\n",
      "Best Individual =  1 1 0 0 1 1 1 1 1 1 1 1 1 1 1 1 1 1 1 1 0 1 0 0 1 0 1 0 0 1 1 0 1 1 1 1 1 1 1 1 0 1 1 0 0 1 1 1 1 1 1 1 1 0 1 1 0 0 1 1 0 1 1 1 0 1 1 1 1 1 0 0 0 1 1 0 1 1 0 0 0 1 1 1 1 1 0 1 1 0 0 0 0 1 1 1 0 0 1 0 \n",
      "\n",
      "- Generation16: Max Fitness = 70.0, Avg Fitness = 67.575\n",
      "Best Individual =  1 1 0 1 1 1 1 1 1 1 1 1 1 1 1 1 1 1 1 1 1 1 1 0 1 0 1 0 1 1 1 0 0 1 1 1 0 1 1 0 0 1 0 1 0 1 1 1 1 1 1 1 1 1 0 1 0 0 1 1 0 1 1 1 0 1 1 1 1 1 0 0 0 1 1 0 1 1 0 0 0 1 1 1 1 1 0 1 1 0 1 0 0 1 1 1 0 0 1 0 \n",
      "\n",
      "- Generation17: Max Fitness = 70.0, Avg Fitness = 68.04\n",
      "Best Individual =  1 1 0 1 1 1 1 1 1 1 1 1 1 1 1 1 1 1 1 1 1 1 1 0 1 0 1 0 1 1 1 0 0 1 1 1 0 1 1 0 0 1 0 1 0 1 1 1 1 1 1 1 1 1 0 1 0 0 1 1 0 1 1 1 0 1 1 1 1 1 0 0 0 1 1 0 1 1 0 0 0 1 1 1 1 1 0 1 1 0 1 0 0 1 1 1 0 0 1 0 \n",
      "\n",
      "- Generation18: Max Fitness = 70.0, Avg Fitness = 68.335\n",
      "Best Individual =  1 1 0 1 1 1 1 1 1 1 1 1 1 1 1 1 1 1 1 1 1 1 1 0 1 1 1 0 1 1 1 0 0 1 1 1 0 1 1 0 0 1 0 0 0 1 1 1 1 1 1 1 1 0 0 1 0 0 1 1 0 1 1 1 0 1 1 1 1 1 0 1 0 1 1 0 1 1 0 0 0 1 1 1 1 1 0 1 1 0 1 0 0 1 1 1 0 0 1 0 \n",
      "\n",
      "- Generation19: Max Fitness = 71.0, Avg Fitness = 68.815\n",
      "Best Individual =  1 1 0 0 1 1 1 1 1 1 1 1 1 1 1 1 1 1 1 1 0 1 0 0 1 0 1 0 0 1 1 0 1 1 1 1 0 1 1 1 0 1 1 0 0 1 1 1 1 1 1 1 1 0 1 1 0 0 1 1 0 1 1 1 0 1 1 1 1 1 0 0 0 1 1 0 1 1 0 1 1 1 1 1 1 1 0 1 1 1 0 1 0 1 1 1 0 0 1 0 \n",
      "\n",
      "- Generation20: Max Fitness = 71.0, Avg Fitness = 69.335\n",
      "Best Individual =  1 1 0 0 1 1 1 1 1 1 1 1 1 1 1 1 1 1 1 1 0 1 0 0 1 0 1 0 0 1 1 0 1 1 1 1 0 1 1 1 0 1 1 0 0 1 1 1 1 1 1 1 1 0 1 1 0 0 1 1 0 1 1 1 0 1 1 1 1 1 0 0 0 1 1 0 1 1 0 1 1 1 1 1 1 1 0 1 1 1 0 1 0 1 1 1 0 0 1 0 \n",
      "\n",
      "- Generation21: Max Fitness = 72.0, Avg Fitness = 69.8\n",
      "Best Individual =  1 1 0 1 1 1 1 1 1 1 1 1 1 1 1 1 1 1 1 1 1 1 1 0 1 1 1 0 1 1 1 1 0 1 1 1 0 1 1 0 0 1 0 0 0 1 1 1 1 1 1 1 1 0 1 1 0 0 1 1 0 1 1 1 0 1 1 1 1 1 0 1 0 1 1 0 1 1 0 0 0 1 1 1 1 1 0 1 1 0 1 0 0 1 1 1 0 0 1 0 \n",
      "\n",
      "- Generation22: Max Fitness = 72.0, Avg Fitness = 70.175\n",
      "Best Individual =  1 1 0 1 1 1 1 1 1 1 1 1 1 1 1 1 1 1 1 1 1 1 1 0 1 0 1 0 1 1 1 0 1 1 1 1 0 1 1 0 0 1 0 1 0 1 1 1 1 1 1 1 1 1 0 1 0 1 1 1 0 1 1 1 0 1 1 1 1 1 0 0 0 1 1 0 1 1 0 0 0 1 1 1 1 1 0 1 1 0 1 0 0 1 1 1 0 0 1 0 \n",
      "\n",
      "- Generation23: Max Fitness = 72.0, Avg Fitness = 70.5\n",
      "Best Individual =  1 1 0 1 1 1 1 1 1 1 1 1 1 1 1 1 1 1 1 1 1 1 1 0 1 1 1 0 1 1 1 1 0 1 1 1 0 1 1 0 0 1 0 0 0 1 1 1 1 1 1 1 1 0 1 1 0 0 1 1 0 1 1 1 0 1 1 1 1 1 0 1 0 1 1 0 1 1 0 0 0 1 1 1 1 1 0 1 1 0 1 0 0 1 1 1 0 0 1 0 \n",
      "\n",
      "- Generation24: Max Fitness = 72.0, Avg Fitness = 70.955\n",
      "Best Individual =  1 1 0 1 1 1 1 1 1 1 1 1 1 1 1 1 1 1 1 1 1 1 1 0 1 1 1 0 1 1 1 1 0 1 1 1 0 1 1 0 0 1 0 0 0 1 1 1 1 1 1 1 1 0 1 1 0 0 1 1 0 1 1 1 0 1 1 1 1 1 0 1 0 1 1 0 1 1 0 0 0 1 1 1 1 1 0 1 1 0 1 0 0 1 1 1 0 0 1 0 \n",
      "\n",
      "- Generation25: Max Fitness = 72.0, Avg Fitness = 71.22\n",
      "Best Individual =  1 1 0 1 1 1 1 1 1 1 1 1 1 1 1 1 1 1 1 1 1 1 1 0 1 0 1 1 1 1 1 0 0 1 1 1 0 1 1 0 0 1 0 1 0 1 1 1 1 1 1 1 1 1 0 1 0 0 1 1 0 1 1 1 0 1 1 1 1 1 0 0 0 1 1 0 1 1 0 0 0 1 1 1 1 1 0 1 1 0 1 0 0 1 1 1 0 1 1 0 \n",
      "\n",
      "- Generation26: Max Fitness = 74.0, Avg Fitness = 71.615\n",
      "Best Individual =  1 1 0 1 1 1 1 1 1 1 1 1 1 1 1 1 1 1 1 1 1 1 1 0 1 1 1 0 1 1 1 1 0 1 0 1 0 1 1 0 0 1 0 0 0 1 1 1 1 1 1 1 1 0 1 1 0 1 1 1 0 1 1 1 0 1 1 1 1 1 0 1 0 1 1 0 1 1 0 0 0 1 1 1 1 1 0 1 1 0 1 0 1 1 1 1 0 0 1 1 \n",
      "\n",
      "- Generation27: Max Fitness = 74.0, Avg Fitness = 71.92\n",
      "Best Individual =  1 1 0 1 1 1 1 1 1 1 1 1 1 1 1 1 1 1 1 1 1 1 1 0 1 1 1 0 1 1 1 1 0 1 0 1 0 1 1 0 0 1 0 0 0 1 1 1 1 1 1 1 1 0 1 1 0 1 1 1 0 1 1 1 0 1 1 1 1 1 0 1 0 1 1 0 1 1 0 0 0 1 1 1 1 1 0 1 1 0 1 0 1 1 1 1 0 0 1 1 \n",
      "\n",
      "- Generation28: Max Fitness = 74.0, Avg Fitness = 72.105\n",
      "Best Individual =  1 1 0 1 1 1 1 1 1 1 1 1 1 1 1 1 1 1 1 1 1 1 1 0 1 1 1 0 1 1 1 1 0 1 1 1 0 1 1 0 0 1 0 0 0 1 1 1 1 1 1 1 1 0 1 1 0 0 1 1 0 1 1 1 0 1 1 1 1 1 0 1 0 1 1 0 1 1 0 0 0 1 1 1 1 1 0 1 1 1 1 1 0 1 1 1 0 0 1 0 \n",
      "\n",
      "- Generation29: Max Fitness = 75.0, Avg Fitness = 72.485\n",
      "Best Individual =  1 1 0 1 1 1 1 1 1 1 1 1 1 1 1 1 1 1 1 1 1 1 1 0 1 1 1 0 1 1 1 1 0 1 0 1 0 1 1 0 0 1 0 0 1 1 1 1 1 1 1 1 1 0 1 1 0 1 1 1 0 1 1 1 0 1 1 1 1 1 0 1 0 1 1 0 1 1 0 0 0 1 1 1 1 1 0 1 1 0 1 0 1 1 1 1 0 0 1 1 \n",
      "\n",
      "- Generation30: Max Fitness = 75.0, Avg Fitness = 73.105\n",
      "Best Individual =  1 1 0 1 1 1 1 1 1 1 1 1 1 1 1 1 1 1 1 1 1 1 1 0 1 1 1 0 1 1 1 1 0 1 0 1 0 1 1 0 0 1 0 0 1 1 1 1 1 1 1 1 1 0 1 1 0 1 1 1 0 1 1 1 0 1 1 1 1 1 0 1 0 1 1 0 1 1 0 0 0 1 1 1 1 1 0 1 1 0 1 0 1 1 1 1 0 0 1 1 \n",
      "\n",
      "- Generation31: Max Fitness = 75.0, Avg Fitness = 73.76\n",
      "Best Individual =  1 1 0 1 1 1 1 1 1 1 1 1 1 1 1 1 1 1 1 1 1 1 1 0 1 1 1 0 1 1 1 1 0 1 0 1 0 1 1 0 0 1 0 0 1 1 1 1 1 1 1 1 1 0 1 1 0 1 1 1 0 1 1 1 0 1 1 1 1 1 0 1 0 1 1 0 1 1 0 0 0 1 1 1 1 1 0 1 1 0 1 0 1 1 1 1 0 0 1 1 \n",
      "\n",
      "- Generation32: Max Fitness = 75.0, Avg Fitness = 74.065\n",
      "Best Individual =  1 1 0 1 1 1 1 1 1 1 1 1 1 1 1 1 1 1 1 1 1 1 1 0 1 1 1 0 1 1 1 1 0 1 0 1 0 1 1 0 0 1 0 0 1 1 1 1 1 1 1 1 1 0 1 1 0 1 1 1 0 1 1 1 0 1 1 1 1 1 0 1 0 1 1 0 1 1 0 0 0 1 1 1 1 1 0 1 1 0 1 0 1 1 1 1 0 0 1 1 \n",
      "\n",
      "- Generation33: Max Fitness = 75.0, Avg Fitness = 74.44\n",
      "Best Individual =  1 1 0 1 1 1 1 1 1 1 1 1 1 1 1 1 1 1 1 1 1 1 1 0 1 1 1 0 1 1 1 1 0 1 0 1 0 1 1 0 0 1 0 0 1 1 1 1 1 1 1 1 1 0 1 1 0 1 1 0 0 1 1 1 0 1 1 1 1 1 0 1 0 1 1 1 1 1 0 0 0 1 1 1 1 1 0 1 1 0 1 0 1 1 1 1 0 0 1 1 \n",
      "\n",
      "- Generation34: Max Fitness = 76.0, Avg Fitness = 74.77\n",
      "Best Individual =  1 1 0 1 1 1 1 1 1 1 1 1 1 1 1 1 1 1 1 1 1 1 1 0 1 1 1 1 1 1 1 1 0 1 0 1 0 1 1 0 0 1 0 0 0 1 1 1 1 1 1 1 1 0 1 1 0 1 1 1 0 1 1 1 0 1 1 1 1 1 0 1 0 1 1 0 1 1 0 1 0 1 1 1 1 1 0 1 1 0 1 0 1 1 1 1 0 0 1 1 \n",
      "\n",
      "- Generation35: Max Fitness = 76.0, Avg Fitness = 74.97\n",
      "Best Individual =  1 1 0 1 1 1 1 1 1 1 1 1 1 1 1 1 1 1 1 1 1 1 1 0 1 1 1 0 1 1 1 1 0 1 1 1 0 1 1 0 0 1 0 0 1 1 1 1 1 1 1 1 1 0 1 1 1 0 1 1 0 1 1 1 0 1 1 1 1 1 0 1 0 1 1 0 1 1 0 0 0 1 1 1 1 1 0 1 1 1 1 1 0 1 1 1 0 0 1 0 \n",
      "\n",
      "- Generation36: Max Fitness = 76.0, Avg Fitness = 75.03\n",
      "Best Individual =  1 1 0 1 1 1 1 1 1 1 1 1 1 1 1 1 1 1 1 1 1 1 1 0 1 1 1 0 1 1 1 1 0 1 1 1 0 1 1 0 0 1 0 0 1 1 1 1 1 1 1 1 1 0 1 1 1 0 1 1 0 1 1 1 0 1 1 1 1 1 0 1 0 1 1 0 1 1 0 0 0 1 1 1 1 1 0 1 1 1 1 1 0 1 1 1 0 0 1 0 \n",
      "\n",
      "- Generation37: Max Fitness = 77.0, Avg Fitness = 75.12\n",
      "Best Individual =  1 1 0 1 1 1 1 1 1 1 1 1 1 1 1 1 1 1 1 1 1 1 1 0 1 1 1 0 1 1 1 1 0 1 0 1 0 1 1 0 0 1 0 0 1 1 1 1 1 1 1 1 1 0 1 1 0 1 1 1 0 1 1 1 0 1 1 1 1 1 0 1 0 1 1 0 1 1 0 0 0 1 1 1 1 1 0 1 1 0 1 1 1 1 1 1 1 0 1 1 \n",
      "\n",
      "- Generation38: Max Fitness = 78.0, Avg Fitness = 75.44\n",
      "Best Individual =  1 1 0 0 1 1 1 1 1 1 1 1 1 1 1 1 1 1 1 1 1 1 1 0 1 1 1 0 1 1 1 1 0 1 1 1 0 1 1 0 0 1 0 0 1 1 1 1 1 1 1 1 1 0 1 1 1 0 1 1 0 1 1 1 0 1 1 1 1 1 0 1 0 1 1 1 1 1 0 0 0 1 1 1 1 1 0 1 1 1 1 1 0 1 1 1 0 1 1 1 \n",
      "\n",
      "- Generation39: Max Fitness = 78.0, Avg Fitness = 75.885\n",
      "Best Individual =  1 1 0 0 1 1 1 1 1 1 1 1 1 1 1 1 1 1 1 1 1 1 1 0 1 1 1 0 1 1 1 1 0 1 1 1 0 1 1 0 0 1 0 0 1 1 1 1 1 1 1 1 1 0 1 1 1 0 1 1 0 1 1 1 0 1 1 1 1 1 0 1 0 1 1 1 1 1 0 0 0 1 1 1 1 1 0 1 1 1 1 1 0 1 1 1 0 1 1 1 \n",
      "\n",
      "- Generation40: Max Fitness = 78.0, Avg Fitness = 76.245\n",
      "Best Individual =  1 1 0 0 1 1 1 1 1 1 1 1 1 1 1 1 1 1 1 1 1 1 1 0 1 1 1 0 1 1 1 1 0 1 1 1 0 1 1 0 0 1 0 0 1 1 1 1 1 1 1 1 1 0 1 1 1 0 1 1 0 1 1 1 0 1 1 1 1 1 0 1 0 1 1 1 1 1 0 0 0 1 1 1 1 1 0 1 1 1 1 1 0 1 1 1 0 1 1 1 \n",
      "\n",
      "- Generation41: Max Fitness = 80.0, Avg Fitness = 76.62\n",
      "Best Individual =  1 1 1 0 1 1 1 1 1 1 1 1 1 1 1 1 1 1 1 1 1 1 1 0 1 1 1 0 1 1 1 1 0 1 1 1 0 1 1 0 1 1 0 0 1 1 1 1 1 1 1 1 1 0 1 1 1 0 1 1 0 1 1 1 0 1 1 1 1 1 0 1 0 1 1 1 1 1 0 0 0 1 1 1 1 1 0 1 1 1 1 1 0 1 1 1 0 1 1 1 \n",
      "\n",
      "- Generation42: Max Fitness = 80.0, Avg Fitness = 77.055\n",
      "Best Individual =  1 1 1 0 1 1 1 1 1 1 1 1 1 1 1 1 1 1 1 1 1 1 1 0 1 1 1 0 1 1 1 1 0 1 1 1 0 1 1 0 1 1 0 0 1 1 1 1 1 1 1 1 1 0 1 1 1 0 1 1 0 1 1 1 0 1 1 1 1 1 0 1 0 1 1 1 1 1 0 0 0 1 1 1 1 1 0 1 1 1 1 1 0 1 1 1 0 1 1 1 \n",
      "\n",
      "- Generation43: Max Fitness = 80.0, Avg Fitness = 77.455\n",
      "Best Individual =  1 1 1 0 1 1 1 1 1 1 1 1 1 1 1 1 1 1 1 1 1 1 1 0 1 1 1 0 1 1 1 1 0 1 1 1 0 1 1 0 1 1 0 0 1 1 1 1 1 1 1 1 1 0 1 1 1 0 1 1 0 1 1 1 0 1 1 1 1 1 0 1 0 1 1 1 1 1 0 0 0 1 1 1 1 1 0 1 1 1 1 1 0 1 1 1 0 1 1 1 \n",
      "\n",
      "- Generation44: Max Fitness = 80.0, Avg Fitness = 77.785\n",
      "Best Individual =  1 1 1 0 1 1 1 1 1 1 1 1 1 1 1 1 1 1 1 1 1 1 1 0 1 1 1 0 1 1 1 1 0 1 1 1 0 1 1 0 1 1 0 0 1 1 1 1 1 1 1 1 1 0 1 1 1 0 1 1 0 1 1 1 0 1 1 1 1 1 0 1 0 1 1 1 1 1 0 0 0 1 1 1 1 1 0 1 1 1 1 1 0 1 1 1 0 1 1 1 \n",
      "\n",
      "- Generation45: Max Fitness = 80.0, Avg Fitness = 78.12\n",
      "Best Individual =  1 1 1 0 1 1 1 1 1 1 1 1 1 1 1 1 1 1 1 1 1 1 1 0 1 1 1 0 1 1 1 1 0 1 1 1 0 1 1 0 1 1 0 0 1 1 1 1 1 1 1 1 1 0 1 1 1 0 1 1 0 1 1 1 0 1 1 1 1 1 0 1 0 1 1 1 1 1 0 0 0 1 1 1 1 1 0 1 1 1 1 1 0 1 1 1 0 1 1 1 \n",
      "\n",
      "- Generation46: Max Fitness = 80.0, Avg Fitness = 78.6\n",
      "Best Individual =  1 1 1 0 1 1 1 1 1 1 1 1 1 1 1 1 1 1 1 1 1 1 1 0 1 1 1 0 1 1 1 1 0 1 1 1 0 1 1 0 1 1 0 0 1 1 1 1 1 1 1 1 1 0 1 1 1 0 1 1 0 1 1 1 0 1 1 1 1 1 0 1 0 1 1 1 1 1 0 0 0 1 1 1 1 1 0 1 1 1 1 1 0 1 1 1 0 1 1 1 \n",
      "\n"
     ]
    },
    {
     "name": "stdout",
     "output_type": "stream",
     "text": [
      "- Generation47: Max Fitness = 81.0, Avg Fitness = 79.335\n",
      "Best Individual =  1 1 1 0 1 1 1 1 1 1 1 1 1 1 1 1 1 1 1 1 1 1 1 0 1 1 1 0 1 1 1 1 0 1 1 1 0 1 1 0 1 1 0 0 1 1 1 1 1 1 1 1 1 0 1 1 1 0 1 1 0 1 1 1 0 1 1 1 1 1 0 1 0 1 1 1 1 1 0 0 0 1 1 1 1 1 0 1 1 1 1 1 0 1 1 1 1 1 1 1 \n",
      "\n",
      "- Generation48: Max Fitness = 80.0, Avg Fitness = 79.825\n",
      "Best Individual =  1 1 1 0 1 1 1 1 1 1 1 1 1 1 1 1 1 1 1 1 1 1 1 0 1 1 1 0 1 1 1 1 0 1 1 1 0 1 1 0 1 1 0 0 1 1 1 1 1 1 1 1 1 0 1 1 1 0 1 1 0 1 1 1 0 1 1 1 1 1 0 1 0 1 1 1 1 1 0 0 0 1 1 1 1 1 0 1 1 1 1 1 0 1 1 1 0 1 1 1 \n",
      "\n",
      "- Generation49: Max Fitness = 82.0, Avg Fitness = 80.0\n",
      "Best Individual =  1 1 1 0 1 1 1 1 1 1 1 1 1 1 1 1 1 1 1 1 1 1 1 1 1 1 1 0 1 1 1 1 0 1 1 1 0 1 1 0 1 1 0 0 1 1 1 1 1 1 1 1 1 0 1 1 1 0 1 1 0 1 1 1 0 1 1 1 1 1 0 1 0 1 1 1 1 1 1 0 0 1 1 1 1 1 0 1 1 1 1 1 0 1 1 1 0 1 1 1 \n",
      "\n",
      "- Generation50: Max Fitness = 82.0, Avg Fitness = 80.025\n",
      "Best Individual =  1 1 1 0 1 1 1 1 1 1 1 1 1 1 1 1 1 1 1 1 1 1 1 1 1 1 1 0 1 1 1 1 0 1 1 1 0 1 1 0 1 1 0 0 1 1 1 1 1 1 1 1 1 0 1 1 1 0 1 1 0 1 1 1 0 1 1 1 1 1 0 1 0 1 1 1 1 1 1 0 0 1 1 1 1 1 0 1 1 1 1 1 0 1 1 1 0 1 1 1 \n",
      "\n"
     ]
    }
   ],
   "source": [
    "while max(fitnessValues)<ONE_MAX_LENGTH and generationCountor<MAX_GENEERATION:\n",
    "    generationCountor += 1\n",
    "    offspring = toolbox.select(population,len(population))           #选择运算，用toolbox.select定义竞标赛选择，将物种与长度传递下去\n",
    "    offspring = list(map(toolbox.clone,offspring))                   #将选择的个体克隆下来，不影响原始种群\n",
    "    \n",
    "    #将被选择的个体用crossover运算符将他们配对创建实际后代\n",
    "    #offspring列表中的每个偶数索引项与奇数索引项对作为双亲，P-CROSSOVER常数为交叉概率，并伤处后代适应度值\n",
    "    for child1,child2 in zip(offspring[1::2],offspring[1::2]):\n",
    "        if random.random() < P_CROSSOVER:\n",
    "            toolbox.mate(child1,child2)\n",
    "            del child1.fitness.values\n",
    "            del child2.fitness.values\n",
    "    \n",
    "    #突变运算，反转位操作，突变概率由P-MUTATION设置，如果突变则删除其适应度值\n",
    "    for mutant in offspring:\n",
    "        if random.random() < P_MUTATION:\n",
    "            toolbox.mutate(mutant)\n",
    "            del mutant.fitness.values\n",
    "            \n",
    "    #用Fitness类的valid属性找出经过交叉或者突变删除了适应度的新个体，然后通过与原始种群适应度相同的计算方式计算出新适应度\n",
    "    freshIndividuals = [ind for ind in offspring if not ind.fitness.values]\n",
    "    freshFitnessValues = list (map(toolbox.evaluate,freshIndividuals))\n",
    "    for individual,fitnessValue in zip(freshIndividuals,freshFitnessValues):\n",
    "        individual.fitness.values = fitnessValue\n",
    "    \n",
    "    population[:] = offspring                                       #更新种群\n",
    "    fitnessValues = [ind.fitness.values[0] for ind in population]   #更新适应度值\n",
    "    \n",
    "    #更新统计值\n",
    "    maxFitness = max(fitnessValues)                                 #最大适应度\n",
    "    meanFitness = sum(fitnessValues)/len(population)                #平均适应度\n",
    "    maxFitnessValues.append(maxFitness)\n",
    "    meanFitnessValues.append(meanFitness)\n",
    "    print(\"- Generation{}: Max Fitness = {}, Avg Fitness = {}\".format(generationCountor,maxFitness,meanFitness))\n",
    "    best_index = fitnessValues.index(max(fitnessValues))            #用最大适应度找到最佳个体\n",
    "    print(\"Best Individual = \",*population[best_index],\"\\n\")"
   ]
  },
  {
   "cell_type": "markdown",
   "id": "24b63762",
   "metadata": {},
   "source": [
    "### 结果展示"
   ]
  },
  {
   "cell_type": "code",
   "execution_count": 9,
   "id": "9321cd77",
   "metadata": {},
   "outputs": [
    {
     "data": {
      "image/png": "[encoded data removed]",
      "text/plain": [
       "<Figure size 640x480 with 1 Axes>"
      ]
     },
     "metadata": {},
     "output_type": "display_data"
    }
   ],
   "source": [
    "plt.plot(maxFitnessValues,color='red')\n",
    "plt.plot(meanFitnessValues,color='green')\n",
    "plt.xlabel('Generation')\n",
    "plt.ylabel('max / Average Fitness')\n",
    "plt.title('Max and Average fitness over Generation')\n",
    "plt.show()"
   ]
  },
  {
   "cell_type": "code",
   "execution_count": null,
   "id": "24de474a",
   "metadata": {},
   "outputs": [],
   "source": []
  }
 ],
 "metadata": {
  "kernelspec": {
   "display_name": "Python 3 (ipykernel)",
   "language": "python",
   "name": "python3"
  },
  "language_info": {
   "codemirror_mode": {
    "name": "ipython",
    "version": 3
   },
   "file_extension": ".py",
   "mimetype": "text/x-python",
   "name": "python",
   "nbconvert_exporter": "python",
   "pygments_lexer": "ipython3",
   "version": "3.11.5"
  }
 },
 "nbformat": 4,
 "nbformat_minor": 5
}
